{
 "cells": [
  {
   "cell_type": "code",
   "execution_count": 92,
   "metadata": {
    "collapsed": true
   },
   "outputs": [],
   "source": [
    "import agate"
   ]
  },
  {
   "cell_type": "code",
   "execution_count": 93,
   "metadata": {
    "collapsed": true
   },
   "outputs": [],
   "source": [
    "tester = agate.TypeTester(limit=500)"
   ]
  },
  {
   "cell_type": "code",
   "execution_count": 94,
   "metadata": {
    "collapsed": false
   },
   "outputs": [],
   "source": [
    "hate = agate.Table.from_csv('oncampushate111213.csv', column_types=tester)"
   ]
  },
  {
   "cell_type": "markdown",
   "metadata": {},
   "source": [
    "I want to have a look at the ratio of hate crimes that result from bias of races in Missouri in the three years, and compare it to the national level. There are 13 types of crimes caused by bias of races in 2013. But \"Negligent Manslaughter By Bias Race\" is not available in this table, so I elimanate this one."
   ]
  },
  {
   "cell_type": "code",
   "execution_count": 95,
   "metadata": {
    "collapsed": true
   },
   "outputs": [],
   "source": [
    "all_murder = hate.where(lambda column: column['State'] == 'MO')"
   ]
  },
  {
   "cell_type": "code",
   "execution_count": 96,
   "metadata": {
    "collapsed": false
   },
   "outputs": [
    {
     "name": "stdout",
     "output_type": "stream",
     "text": [
      "0\n"
     ]
    }
   ],
   "source": [
    "racemo1a = all_mo.aggregate(agate.Sum('MURD_RAC11'))\n",
    "racemo1b = all_mo.aggregate(agate.Sum('MURD_RAC12'))\n",
    "racemo1c = all_mo.aggregate(agate.Sum('MURD_RAC13'))\n",
    "print(racemo1a+racemo1b+racemo1c)"
   ]
  },
  {
   "cell_type": "code",
   "execution_count": 97,
   "metadata": {
    "collapsed": false
   },
   "outputs": [
    {
     "name": "stdout",
     "output_type": "stream",
     "text": [
      "0\n"
     ]
    }
   ],
   "source": [
    "racemo3a = all_mo.aggregate(agate.Sum('FORCIB_RAC11'))\n",
    "racemo3b = all_mo.aggregate(agate.Sum('FORCIB_RAC12'))\n",
    "racemo3c = all_mo.aggregate(agate.Sum('FORCIB_RAC13'))\n",
    "print(racemo3)"
   ]
  },
  {
   "cell_type": "code",
   "execution_count": 98,
   "metadata": {
    "collapsed": false
   },
   "outputs": [
    {
     "name": "stdout",
     "output_type": "stream",
     "text": [
      "0\n"
     ]
    }
   ],
   "source": [
    "racemo4a = all_mo.aggregate(agate.Sum('NONFOR_RAC11'))\n",
    "racemo4b = all_mo.aggregate(agate.Sum('NONFOR_RAC12'))\n",
    "racemo4c = all_mo.aggregate(agate.Sum('NONFOR_RAC13'))\n",
    "print(racemo4a+racemo4b+racemo4c)"
   ]
  },
  {
   "cell_type": "code",
   "execution_count": 99,
   "metadata": {
    "collapsed": false
   },
   "outputs": [
    {
     "name": "stdout",
     "output_type": "stream",
     "text": [
      "0\n"
     ]
    }
   ],
   "source": [
    "racemo5a = all_mo.aggregate(agate.Sum('ROBBE_RAC11'))\n",
    "racemo5b = all_mo.aggregate(agate.Sum('ROBBE_RAC12'))\n",
    "racemo5c = all_mo.aggregate(agate.Sum('ROBBE_RAC13'))\n",
    "print(racemo5a+racemo5b+racemo5c)"
   ]
  },
  {
   "cell_type": "code",
   "execution_count": 100,
   "metadata": {
    "collapsed": false
   },
   "outputs": [
    {
     "name": "stdout",
     "output_type": "stream",
     "text": [
      "0\n"
     ]
    }
   ],
   "source": [
    "racemo6a = all_mo.aggregate(agate.Sum('AGG_A_RAC11'))\n",
    "racemo6b = all_mo.aggregate(agate.Sum('AGG_A_RAC12'))\n",
    "racemo6c = all_mo.aggregate(agate.Sum('AGG_A_RAC13'))\n",
    "print(racemo6a+racemo6b+racemo6c)"
   ]
  },
  {
   "cell_type": "code",
   "execution_count": 101,
   "metadata": {
    "collapsed": false
   },
   "outputs": [
    {
     "name": "stdout",
     "output_type": "stream",
     "text": [
      "0\n"
     ]
    }
   ],
   "source": [
    "racemo7a = all_mo.aggregate(agate.Sum('BURGLA_RAC11'))\n",
    "racemo7b = all_mo.aggregate(agate.Sum('BURGLA_RAC12'))\n",
    "racemo7c = all_mo.aggregate(agate.Sum('BURGLA_RAC13'))\n",
    "print(racemo7a+racemo7b+racemo7c)"
   ]
  },
  {
   "cell_type": "code",
   "execution_count": 102,
   "metadata": {
    "collapsed": false
   },
   "outputs": [
    {
     "name": "stdout",
     "output_type": "stream",
     "text": [
      "0\n"
     ]
    }
   ],
   "source": [
    "racemo8a = all_mo.aggregate(agate.Sum('VEHIC_RAC11'))\n",
    "racemo8b = all_mo.aggregate(agate.Sum('VEHIC_RAC12'))\n",
    "racemo8c = all_mo.aggregate(agate.Sum('VEHIC_RAC13'))\n",
    "print(racemo8)"
   ]
  },
  {
   "cell_type": "code",
   "execution_count": 103,
   "metadata": {
    "collapsed": false
   },
   "outputs": [
    {
     "name": "stdout",
     "output_type": "stream",
     "text": [
      "0\n"
     ]
    }
   ],
   "source": [
    "racemo9a = all_mo.aggregate(agate.Sum('ARSON_RAC11'))\n",
    "racemo9b = all_mo.aggregate(agate.Sum('ARSON_RAC12'))\n",
    "racemo9c = all_mo.aggregate(agate.Sum('ARSON_RAC13'))\n",
    "print(racemo9a+racemo9b+racemo9c)"
   ]
  },
  {
   "cell_type": "code",
   "execution_count": 104,
   "metadata": {
    "collapsed": false
   },
   "outputs": [
    {
     "name": "stdout",
     "output_type": "stream",
     "text": [
      "0\n"
     ]
    }
   ],
   "source": [
    "racemo10a = all_mo.aggregate(agate.Sum('SIM_A_RAC11'))\n",
    "racemo10b = all_mo.aggregate(agate.Sum('SIM_A_RAC12'))\n",
    "racemo10c = all_mo.aggregate(agate.Sum('SIM_A_RAC13'))\n",
    "print(racemo10a+racemo10b+racemo10c)"
   ]
  },
  {
   "cell_type": "code",
   "execution_count": 105,
   "metadata": {
    "collapsed": false
   },
   "outputs": [
    {
     "name": "stdout",
     "output_type": "stream",
     "text": [
      "0\n"
     ]
    }
   ],
   "source": [
    "racemo11a = all_mo.aggregate(agate.Sum('LAR_T_RAC11'))\n",
    "racemo11b = all_mo.aggregate(agate.Sum('LAR_T_RAC12'))\n",
    "racemo11c = all_mo.aggregate(agate.Sum('LAR_T_RAC13'))\n",
    "print(racemo11a+racemo11b+racemo11c)"
   ]
  },
  {
   "cell_type": "code",
   "execution_count": 106,
   "metadata": {
    "collapsed": false
   },
   "outputs": [
    {
     "name": "stdout",
     "output_type": "stream",
     "text": [
      "1\n"
     ]
    }
   ],
   "source": [
    "racemo12a = all_mo.aggregate(agate.Sum('INTIM_RAC11'))\n",
    "racemo12b = all_mo.aggregate(agate.Sum('INTIM_RAC12'))\n",
    "racemo12c = all_mo.aggregate(agate.Sum('INTIM_RAC13'))\n",
    "print(racemo12a+racemo12b+racemo12c)"
   ]
  },
  {
   "cell_type": "code",
   "execution_count": 107,
   "metadata": {
    "collapsed": false
   },
   "outputs": [
    {
     "name": "stdout",
     "output_type": "stream",
     "text": [
      "5\n"
     ]
    }
   ],
   "source": [
    "racemo13a = all_mo.aggregate(agate.Sum('VANDAL_RAC11'))\n",
    "racemo13b = all_mo.aggregate(agate.Sum('VANDAL_RAC12'))\n",
    "racemo13c = all_mo.aggregate(agate.Sum('VANDAL_RAC13'))\n",
    "print(racemo13a+racemo13b+racemo13c)"
   ]
  },
  {
   "cell_type": "code",
   "execution_count": 108,
   "metadata": {
    "collapsed": false
   },
   "outputs": [
    {
     "name": "stdout",
     "output_type": "stream",
     "text": [
      "1824\n"
     ]
    }
   ],
   "source": [
    "race1 = hate.aggregate(agate.Sum('MURD_RAC13'))\n",
    "\n",
    "\n",
    "race5 = hate.aggregate(agate.Sum('ROBBE_RAC13'))\n",
    "race6 = hate.aggregate(agate.Sum('AGG_A_RAC13'))\n",
    "race7 = hate.aggregate(agate.Sum('BURGLA_RAC13'))\n",
    "race8 = hate.aggregate(agate.Sum('VEHIC_RAC13'))\n",
    "race9 = hate.aggregate(agate.Sum('ARSON_RAC13'))\n",
    "race10 = hate.aggregate(agate.Sum('SIM_A_RAC13'))\n",
    "race11 = hate.aggregate(agate.Sum('LAR_T_RAC13'))\n",
    "race12 = hate.aggregate(agate.Sum('INTIM_RAC13'))\n",
    "race13 = hate.aggregate(agate.Sum('VANDAL_RAC13'))\n"
   ]
  },
  {
   "cell_type": "code",
   "execution_count": null,
   "metadata": {
    "collapsed": true
   },
   "outputs": [],
   "source": [
    "race3a = hate.aggregate(agate.Sum('FORCIB_RAC11'))\n",
    "race3b = hate.aggregate(agate.Sum('FORCIB_RAC12'))\n",
    "race3c = hate.aggregate(agate.Sum('FORCIB_RAC13'))\n",
    "print(race3a+race3b+race3c)"
   ]
  },
  {
   "cell_type": "code",
   "execution_count": null,
   "metadata": {
    "collapsed": true
   },
   "outputs": [],
   "source": [
    "race4a = hate.aggregate(agate.Sum('NONFOR_RAC11'))\n",
    "race4b = hate.aggregate(agate.Sum('NONFOR_RAC12'))\n",
    "race4c = hate.aggregate(agate.Sum('NONFOR_RAC13'))\n",
    "print(race4a+race4b+race4c)"
   ]
  },
  {
   "cell_type": "code",
   "execution_count": null,
   "metadata": {
    "collapsed": true
   },
   "outputs": [],
   "source": []
  },
  {
   "cell_type": "code",
   "execution_count": null,
   "metadata": {
    "collapsed": true
   },
   "outputs": [],
   "source": []
  },
  {
   "cell_type": "code",
   "execution_count": null,
   "metadata": {
    "collapsed": true
   },
   "outputs": [],
   "source": []
  },
  {
   "cell_type": "code",
   "execution_count": null,
   "metadata": {
    "collapsed": true
   },
   "outputs": [],
   "source": []
  },
  {
   "cell_type": "code",
   "execution_count": null,
   "metadata": {
    "collapsed": true
   },
   "outputs": [],
   "source": []
  },
  {
   "cell_type": "code",
   "execution_count": null,
   "metadata": {
    "collapsed": true
   },
   "outputs": [],
   "source": []
  }
 ],
 "metadata": {
  "kernelspec": {
   "display_name": "Python 2",
   "language": "python",
   "name": "python2"
  },
  "language_info": {
   "codemirror_mode": {
    "name": "ipython",
    "version": 2
   },
   "file_extension": ".py",
   "mimetype": "text/x-python",
   "name": "python",
   "nbconvert_exporter": "python",
   "pygments_lexer": "ipython2",
   "version": "2.7.10"
  }
 },
 "nbformat": 4,
 "nbformat_minor": 0
}
