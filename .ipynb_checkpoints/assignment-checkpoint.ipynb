{
 "cells": [
  {
   "cell_type": "code",
   "execution_count": 244,
   "metadata": {
    "collapsed": true
   },
   "outputs": [],
   "source": [
    "import agate"
   ]
  },
  {
   "cell_type": "code",
   "execution_count": 245,
   "metadata": {
    "collapsed": true
   },
   "outputs": [],
   "source": [
    "tester = agate.TypeTester(limit=500)"
   ]
  },
  {
   "cell_type": "code",
   "execution_count": 246,
   "metadata": {
    "collapsed": false
   },
   "outputs": [],
   "source": [
    "hate = agate.Table.from_csv('oncampushate111213.csv', column_types=tester)"
   ]
  },
  {
   "cell_type": "markdown",
   "metadata": {},
   "source": [
    "I want to have a look at the ratio of hate crimes that result from bias of races in Missouri in the three years, and compare it to the national ratio. It will help me learn about whether the confrontations of racialism in Missouri impair the public safety. There are 13 types of crimes caused by bias of races in 2013. But \"Negligent Manslaughter By Bias Race\" is not available in this table, so I eliminate this one. "
   ]
  },
  {
   "cell_type": "markdown",
   "metadata": {},
   "source": [
    "First, I need the number of different types of racial crimes in Missouri."
   ]
  },
  {
   "cell_type": "code",
   "execution_count": 247,
   "metadata": {
    "collapsed": true
   },
   "outputs": [],
   "source": [
    "all_mo = hate.where(lambda row: row['State'] == 'MO')"
   ]
  },
  {
   "cell_type": "code",
   "execution_count": 248,
   "metadata": {
    "collapsed": false
   },
   "outputs": [
    {
     "name": "stdout",
     "output_type": "stream",
     "text": [
      "0\n"
     ]
    }
   ],
   "source": [
    "racemo1a = all_mo.aggregate(agate.Sum('MURD_RAC11'))\n",
    "racemo1b = all_mo.aggregate(agate.Sum('MURD_RAC12'))\n",
    "racemo1c = all_mo.aggregate(agate.Sum('MURD_RAC13'))\n",
    "mo1=racemo1a+racemo1b+racemo1c\n",
    "print(mo1)"
   ]
  },
  {
   "cell_type": "code",
   "execution_count": 249,
   "metadata": {
    "collapsed": false
   },
   "outputs": [
    {
     "name": "stdout",
     "output_type": "stream",
     "text": [
      "0\n"
     ]
    }
   ],
   "source": [
    "racemo3a = all_mo.aggregate(agate.Sum('FORCIB_RAC11'))\n",
    "racemo3b = all_mo.aggregate(agate.Sum('FORCIB_RAC12'))\n",
    "racemo3c = all_mo.aggregate(agate.Sum('FORCIB_RAC13'))\n",
    "mo3 = racemo3a+racemo3b+racemo3c\n",
    "print(mo3)"
   ]
  },
  {
   "cell_type": "code",
   "execution_count": 250,
   "metadata": {
    "collapsed": false
   },
   "outputs": [
    {
     "name": "stdout",
     "output_type": "stream",
     "text": [
      "0\n"
     ]
    }
   ],
   "source": [
    "racemo4a = all_mo.aggregate(agate.Sum('NONFOR_RAC11'))\n",
    "racemo4b = all_mo.aggregate(agate.Sum('NONFOR_RAC12'))\n",
    "racemo4c = all_mo.aggregate(agate.Sum('NONFOR_RAC13'))\n",
    "mo4 = racemo4a+racemo4b+racemo4c\n",
    "print(mo4)"
   ]
  },
  {
   "cell_type": "code",
   "execution_count": 251,
   "metadata": {
    "collapsed": false
   },
   "outputs": [
    {
     "name": "stdout",
     "output_type": "stream",
     "text": [
      "0\n"
     ]
    }
   ],
   "source": [
    "racemo5a = all_mo.aggregate(agate.Sum('ROBBE_RAC11'))\n",
    "racemo5b = all_mo.aggregate(agate.Sum('ROBBE_RAC12'))\n",
    "racemo5c = all_mo.aggregate(agate.Sum('ROBBE_RAC13'))\n",
    "mo5 = racemo5a+racemo5b+racemo5c\n",
    "print(mo5)"
   ]
  },
  {
   "cell_type": "code",
   "execution_count": 252,
   "metadata": {
    "collapsed": false
   },
   "outputs": [
    {
     "name": "stdout",
     "output_type": "stream",
     "text": [
      "1\n"
     ]
    }
   ],
   "source": [
    "racemo6a = all_mo.aggregate(agate.Sum('AGG_A_RAC11'))\n",
    "racemo6b = all_mo.aggregate(agate.Sum('AGG_A_RAC12'))\n",
    "racemo6c = all_mo.aggregate(agate.Sum('AGG_A_RAC13'))\n",
    "mo6 = racemo6a+racemo6b+racemo6c\n",
    "print(mo6)"
   ]
  },
  {
   "cell_type": "code",
   "execution_count": 253,
   "metadata": {
    "collapsed": false
   },
   "outputs": [
    {
     "name": "stdout",
     "output_type": "stream",
     "text": [
      "0\n"
     ]
    }
   ],
   "source": [
    "racemo7a = all_mo.aggregate(agate.Sum('BURGLA_RAC11'))\n",
    "racemo7b = all_mo.aggregate(agate.Sum('BURGLA_RAC12'))\n",
    "racemo7c = all_mo.aggregate(agate.Sum('BURGLA_RAC13'))\n",
    "mo7 = racemo7a+racemo7b+racemo7c\n",
    "print(mo7)"
   ]
  },
  {
   "cell_type": "code",
   "execution_count": 254,
   "metadata": {
    "collapsed": false
   },
   "outputs": [
    {
     "name": "stdout",
     "output_type": "stream",
     "text": [
      "0\n"
     ]
    }
   ],
   "source": [
    "racemo8a = all_mo.aggregate(agate.Sum('VEHIC_RAC11'))\n",
    "racemo8b = all_mo.aggregate(agate.Sum('VEHIC_RAC12'))\n",
    "racemo8c = all_mo.aggregate(agate.Sum('VEHIC_RAC13'))\n",
    "mo8 = racemo8a+racemo8b+racemo8c\n",
    "print(mo8)"
   ]
  },
  {
   "cell_type": "code",
   "execution_count": 255,
   "metadata": {
    "collapsed": false
   },
   "outputs": [
    {
     "name": "stdout",
     "output_type": "stream",
     "text": [
      "0\n"
     ]
    }
   ],
   "source": [
    "racemo9a = all_mo.aggregate(agate.Sum('ARSON_RAC11'))\n",
    "racemo9b = all_mo.aggregate(agate.Sum('ARSON_RAC12'))\n",
    "racemo9c = all_mo.aggregate(agate.Sum('ARSON_RAC13'))\n",
    "mo9 = racemo9a+racemo9b+racemo9c\n",
    "print (mo9)"
   ]
  },
  {
   "cell_type": "code",
   "execution_count": 256,
   "metadata": {
    "collapsed": false
   },
   "outputs": [
    {
     "name": "stdout",
     "output_type": "stream",
     "text": [
      "1\n"
     ]
    }
   ],
   "source": [
    "racemo10a = all_mo.aggregate(agate.Sum('SIM_A_RAC11'))\n",
    "racemo10b = all_mo.aggregate(agate.Sum('SIM_A_RAC12'))\n",
    "racemo10c = all_mo.aggregate(agate.Sum('SIM_A_RAC13'))\n",
    "mo10 = racemo10a+racemo10b+racemo10c\n",
    "print (mo10)"
   ]
  },
  {
   "cell_type": "code",
   "execution_count": 257,
   "metadata": {
    "collapsed": false
   },
   "outputs": [
    {
     "name": "stdout",
     "output_type": "stream",
     "text": [
      "0\n"
     ]
    }
   ],
   "source": [
    "racemo11a = all_mo.aggregate(agate.Sum('LAR_T_RAC11'))\n",
    "racemo11b = all_mo.aggregate(agate.Sum('LAR_T_RAC12'))\n",
    "racemo11c = all_mo.aggregate(agate.Sum('LAR_T_RAC13'))\n",
    "mo11 = racemo11a+racemo11b+racemo11c\n",
    "print (mo11)"
   ]
  },
  {
   "cell_type": "code",
   "execution_count": 258,
   "metadata": {
    "collapsed": false
   },
   "outputs": [
    {
     "name": "stdout",
     "output_type": "stream",
     "text": [
      "8\n"
     ]
    }
   ],
   "source": [
    "racemo12a = all_mo.aggregate(agate.Sum('INTIM_RAC11'))\n",
    "racemo12b = all_mo.aggregate(agate.Sum('INTIM_RAC12'))\n",
    "racemo12c = all_mo.aggregate(agate.Sum('INTIM_RAC13'))\n",
    "mo12 = racemo12a+racemo12b+racemo12c\n",
    "print (mo12)"
   ]
  },
  {
   "cell_type": "code",
   "execution_count": 259,
   "metadata": {
    "collapsed": false
   },
   "outputs": [
    {
     "name": "stdout",
     "output_type": "stream",
     "text": [
      "9\n"
     ]
    }
   ],
   "source": [
    "racemo13a = all_mo.aggregate(agate.Sum('VANDAL_RAC11'))\n",
    "racemo13b = all_mo.aggregate(agate.Sum('VANDAL_RAC12'))\n",
    "racemo13c = all_mo.aggregate(agate.Sum('VANDAL_RAC13'))\n",
    "mo13 = racemo13a+racemo13b+racemo13c\n",
    "print (mo13)"
   ]
  },
  {
   "cell_type": "markdown",
   "metadata": {},
   "source": [
    "Then, there are the numbers of different types of racial crimes nationwide."
   ]
  },
  {
   "cell_type": "code",
   "execution_count": 260,
   "metadata": {
    "collapsed": false
   },
   "outputs": [
    {
     "name": "stdout",
     "output_type": "stream",
     "text": [
      "0\n"
     ]
    }
   ],
   "source": [
    "race1a = hate.aggregate(agate.Sum('MURD_RAC11'))\n",
    "race1b = hate.aggregate(agate.Sum('MURD_RAC12'))\n",
    "race1c = hate.aggregate(agate.Sum('MURD_RAC13'))\n",
    "na1 = race1a+race1b+race1c\n",
    "print(na1)"
   ]
  },
  {
   "cell_type": "code",
   "execution_count": 261,
   "metadata": {
    "collapsed": false
   },
   "outputs": [
    {
     "name": "stdout",
     "output_type": "stream",
     "text": [
      "3\n"
     ]
    }
   ],
   "source": [
    "race3a = hate.aggregate(agate.Sum('FORCIB_RAC11'))\n",
    "race3b = hate.aggregate(agate.Sum('FORCIB_RAC12'))\n",
    "race3c = hate.aggregate(agate.Sum('FORCIB_RAC13'))\n",
    "na3 = race3a+race3b+race3c\n",
    "print(na3)"
   ]
  },
  {
   "cell_type": "code",
   "execution_count": 262,
   "metadata": {
    "collapsed": false
   },
   "outputs": [
    {
     "name": "stdout",
     "output_type": "stream",
     "text": [
      "0\n"
     ]
    }
   ],
   "source": [
    "race4a = hate.aggregate(agate.Sum('NONFOR_RAC11'))\n",
    "race4b = hate.aggregate(agate.Sum('NONFOR_RAC12'))\n",
    "race4c = hate.aggregate(agate.Sum('NONFOR_RAC13'))\n",
    "na4 = race4a+race4b+race4c\n",
    "print(na4)"
   ]
  },
  {
   "cell_type": "code",
   "execution_count": 263,
   "metadata": {
    "collapsed": false
   },
   "outputs": [
    {
     "name": "stdout",
     "output_type": "stream",
     "text": [
      "5\n"
     ]
    }
   ],
   "source": [
    "race5a = hate.aggregate(agate.Sum('ROBBE_RAC11'))\n",
    "race5b = hate.aggregate(agate.Sum('ROBBE_RAC12'))\n",
    "race5c = hate.aggregate(agate.Sum('ROBBE_RAC13'))\n",
    "na5 = race5a+race5b+race5c\n",
    "print(na5)"
   ]
  },
  {
   "cell_type": "code",
   "execution_count": 264,
   "metadata": {
    "collapsed": false
   },
   "outputs": [
    {
     "name": "stdout",
     "output_type": "stream",
     "text": [
      "21\n"
     ]
    }
   ],
   "source": [
    "race6a = hate.aggregate(agate.Sum('AGG_A_RAC11'))\n",
    "race6b = hate.aggregate(agate.Sum('AGG_A_RAC12'))\n",
    "race6c = hate.aggregate(agate.Sum('AGG_A_RAC13'))\n",
    "na6 = race6a+race6b+race6c\n",
    "print(na6)"
   ]
  },
  {
   "cell_type": "code",
   "execution_count": 265,
   "metadata": {
    "collapsed": false
   },
   "outputs": [
    {
     "name": "stdout",
     "output_type": "stream",
     "text": [
      "7\n"
     ]
    }
   ],
   "source": [
    "race7a = hate.aggregate(agate.Sum('BURGLA_RAC11'))\n",
    "race7b = hate.aggregate(agate.Sum('BURGLA_RAC12'))\n",
    "race7c = hate.aggregate(agate.Sum('BURGLA_RAC13'))\n",
    "na7 = race7a+race7b+race7c\n",
    "print(na7)"
   ]
  },
  {
   "cell_type": "code",
   "execution_count": 266,
   "metadata": {
    "collapsed": false
   },
   "outputs": [
    {
     "name": "stdout",
     "output_type": "stream",
     "text": [
      "3\n"
     ]
    }
   ],
   "source": [
    "race8a = hate.aggregate(agate.Sum('VEHIC_RAC11'))\n",
    "race8b = hate.aggregate(agate.Sum('VEHIC_RAC12'))\n",
    "race8c = hate.aggregate(agate.Sum('VEHIC_RAC13'))\n",
    "na8 = race8a+race8b+race8c\n",
    "print(na8)"
   ]
  },
  {
   "cell_type": "code",
   "execution_count": 267,
   "metadata": {
    "collapsed": false
   },
   "outputs": [
    {
     "name": "stdout",
     "output_type": "stream",
     "text": [
      "0\n"
     ]
    }
   ],
   "source": [
    "race9a = hate.aggregate(agate.Sum('ARSON_RAC11'))\n",
    "race9b = hate.aggregate(agate.Sum('ARSON_RAC12'))\n",
    "race9c = hate.aggregate(agate.Sum('ARSON_RAC13'))\n",
    "na9 = race9a+race9b+race9c\n",
    "print(na9)"
   ]
  },
  {
   "cell_type": "code",
   "execution_count": 268,
   "metadata": {
    "collapsed": false
   },
   "outputs": [
    {
     "name": "stdout",
     "output_type": "stream",
     "text": [
      "97\n"
     ]
    }
   ],
   "source": [
    "race10a = hate.aggregate(agate.Sum('SIM_A_RAC11'))\n",
    "race10b = hate.aggregate(agate.Sum('SIM_A_RAC12'))\n",
    "race10c = hate.aggregate(agate.Sum('SIM_A_RAC13'))\n",
    "na10 = race10a+race10b+race10c\n",
    "print(na10)"
   ]
  },
  {
   "cell_type": "code",
   "execution_count": 269,
   "metadata": {
    "collapsed": false
   },
   "outputs": [
    {
     "name": "stdout",
     "output_type": "stream",
     "text": [
      "11\n"
     ]
    }
   ],
   "source": [
    "race11a = hate.aggregate(agate.Sum('LAR_T_RAC11'))\n",
    "race11b = hate.aggregate(agate.Sum('LAR_T_RAC12'))\n",
    "race11c = hate.aggregate(agate.Sum('LAR_T_RAC13'))\n",
    "na11 = race11a+race11b+race11c\n",
    "print(na11)"
   ]
  },
  {
   "cell_type": "code",
   "execution_count": 270,
   "metadata": {
    "collapsed": false
   },
   "outputs": [
    {
     "name": "stdout",
     "output_type": "stream",
     "text": [
      "363\n"
     ]
    }
   ],
   "source": [
    "race12a = hate.aggregate(agate.Sum('INTIM_RAC11'))\n",
    "race12b = hate.aggregate(agate.Sum('INTIM_RAC12'))\n",
    "race12c = hate.aggregate(agate.Sum('INTIM_RAC13'))\n",
    "na12 = race12a+race12b+race12c\n",
    "print(na12)"
   ]
  },
  {
   "cell_type": "code",
   "execution_count": 271,
   "metadata": {
    "collapsed": false
   },
   "outputs": [
    {
     "name": "stdout",
     "output_type": "stream",
     "text": [
      "456\n"
     ]
    }
   ],
   "source": [
    "race13a = hate.aggregate(agate.Sum('VANDAL_RAC13'))\n",
    "race13b = hate.aggregate(agate.Sum('VANDAL_RAC13'))\n",
    "race13c = hate.aggregate(agate.Sum('VANDAL_RAC13'))\n",
    "na13 = race13a+race13b+race13c\n",
    "print(na13)"
   ]
  },
  {
   "cell_type": "markdown",
   "metadata": {},
   "source": [
    "From 2011 to 2013, Missouri has 19 criminal cases caused by racial bias. Types of the criminals are Intimidation, Destruction/Damage/Vandalism, Simple Assault and Aggravated Assault. The state condition complied with the national condition. Although Darren Wilson shot Michael Brown in 2014 and was accused of racial bias, crimes caused by racial bias were not a serious problem in Missouri. \n",
    "\n",
    "There is a question that need further information. Have the racial confrontations in Missouri in the past two years, including the shooting in Ferguson and demonstration last month, increased the crimes caused by racial bias? Last month, hate speeches were spread on the Internet and some people threatened to kill African Americans. Though Columbia police arrested a person who published hate speech online, it reflected the tensions and negative emotions among people. It is worth to look at the same numbers in 2014 and 2015."
   ]
  }
 ],
 "metadata": {
  "kernelspec": {
   "display_name": "Python 2",
   "language": "python",
   "name": "python2"
  },
  "language_info": {
   "codemirror_mode": {
    "name": "ipython",
    "version": 2
   },
   "file_extension": ".py",
   "mimetype": "text/x-python",
   "name": "python",
   "nbconvert_exporter": "python",
   "pygments_lexer": "ipython2",
   "version": "2.7.10"
  }
 },
 "nbformat": 4,
 "nbformat_minor": 0
}
